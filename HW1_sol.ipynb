{
 "cells": [
  {
   "cell_type": "code",
   "execution_count": 1,
   "metadata": {},
   "outputs": [],
   "source": [
    "import math as m\n",
    "import sys"
   ]
  },
  {
   "cell_type": "markdown",
   "metadata": {},
   "source": [
    "# HW-1 by Alexey Mengden"
   ]
  },
  {
   "cell_type": "markdown",
   "metadata": {},
   "source": [
    "### Problem 1: Forward with unknown strike"
   ]
  },
  {
   "cell_type": "markdown",
   "metadata": {},
   "source": [
    "a) First we create synthetic forward position by buying the underlying asset at $t=0$, costing $S(t=0)=S_0$ and sell it at $T_2\n",
    "$, acquiring $S(T_2)$. Also we want to acquiare $-S(T_1)$ at $T_2$. We take short position at $t=0$ by selling underlying asset $S_0e^{-r(T_2-T_1)}$ and close it at $T_1$ by borrowing $e^{-r(T_2-T_1)}S(T_1)$ money at risk-free rate $r$. And as we want we pay back $-S(T_1)$ money at $T_2$. So the asnwer is $S_0-S_0e^{-r(T_2-T_1)}=\\mathbf{S_0(1-e^{-r(T_2-T_1)})}$\n"
   ]
  },
  {
   "cell_type": "markdown",
   "metadata": {},
   "source": [
    "b.) Dividend $I_t$ is paid $t<T_1$. We have $S_0+e^{-rt}I_t-S_0e^{-r(T_2-T_1)}-e^{-rt}I_t=S_0(1-e^{-r(T_2-T_1)})$"
   ]
  },
  {
   "cell_type": "markdown",
   "metadata": {},
   "source": [
    "c.) Dividend $I_t$ is paid $T_1<t<T_2$. Back to the syntethic forward we borrow $e^{-rt}I_t$ money so the answer is $S_0(1-e^{-r(T_2-T_1)})-e^{-rt}I_t$"
   ]
  },
  {
   "cell_type": "markdown",
   "metadata": {},
   "source": [
    "### Problem 2: Forward"
   ]
  },
  {
   "cell_type": "markdown",
   "metadata": {},
   "source": [
    "a.) "
   ]
  },
  {
   "cell_type": "code",
   "execution_count": 2,
   "metadata": {},
   "outputs": [
    {
     "name": "stdout",
     "output_type": "stream",
     "text": [
      "F(0,6/12) = 0.837510"
     ]
    }
   ],
   "source": [
    "Forward_rate = (1/1.2) * m.exp((0.02 - 0.01) * 6 / 12)\n",
    "sys.stdout.write('F(0,6/12) = %f'%Forward_rate)"
   ]
  },
  {
   "cell_type": "markdown",
   "metadata": {},
   "source": [
    "b.)"
   ]
  },
  {
   "cell_type": "code",
   "execution_count": 3,
   "metadata": {},
   "outputs": [
    {
     "name": "stdout",
     "output_type": "stream",
     "text": [
      "F = 0.909091, V = 705147.806058"
     ]
    }
   ],
   "source": [
    "F = (1/1.1) * m.exp((0.02 - 0.02) * 9 / 12)\n",
    "V = m.exp(-0.02 * 9 / 12) * (F - Forward_rate) * 10**7\n",
    "sys.stdout.write('F = %f, V = %f' %(F, V))"
   ]
  },
  {
   "cell_type": "markdown",
   "metadata": {},
   "source": [
    "c.) Yes, arbitrage is implied. Buy forward for 1m EUR. We can buy  "
   ]
  },
  {
   "cell_type": "code",
   "execution_count": 4,
   "metadata": {},
   "outputs": [
    {
     "name": "stdout",
     "output_type": "stream",
     "text": [
      "PV = 990049.833749 EUR at delivery"
     ]
    }
   ],
   "source": [
    "PV = 10**6*m.exp(-0.02 * 6 / 12)\n",
    "sys.stdout.write('PV = %f EUR at delivery'%PV)"
   ]
  },
  {
   "cell_type": "markdown",
   "metadata": {},
   "source": [
    "Borrow "
   ]
  },
  {
   "cell_type": "code",
   "execution_count": 5,
   "metadata": {},
   "outputs": [
    {
     "name": "stdout",
     "output_type": "stream",
     "text": [
      "1188059.800499 dollars"
     ]
    }
   ],
   "source": [
    "sys.stdout.write('%f dollars'%(PV * 1.2))"
   ]
  },
  {
   "cell_type": "markdown",
   "metadata": {},
   "source": [
    "Converting these dollars to EUR and invest at 2% for half a year"
   ]
  },
  {
   "cell_type": "markdown",
   "metadata": {},
   "source": [
    "After half a year we achieve 1m in EUR and we have a loan "
   ]
  },
  {
   "cell_type": "code",
   "execution_count": 6,
   "metadata": {},
   "outputs": [
    {
     "name": "stdout",
     "output_type": "stream",
     "text": [
      "1194014.975031 dollars"
     ]
    }
   ],
   "source": [
    "FV = m.exp(0.01 * 6 / 12) * PV * 1.2\n",
    "sys.stdout.write('%f dollars'%FV)"
   ]
  },
  {
   "cell_type": "markdown",
   "metadata": {},
   "source": [
    "So we have a profit:"
   ]
  },
  {
   "cell_type": "code",
   "execution_count": 7,
   "metadata": {},
   "outputs": [
    {
     "name": "stdout",
     "output_type": "stream",
     "text": [
      "5985.024969 dollars"
     ]
    }
   ],
   "source": [
    "sys.stdout.write('%f dollars'%(10**6 * 1.2 - FV))"
   ]
  },
  {
   "cell_type": "markdown",
   "metadata": {},
   "source": [
    "### Problem 3: Futures"
   ]
  },
  {
   "cell_type": "markdown",
   "metadata": {},
   "source": [
    "a) the six-month futures price on the stock is"
   ]
  },
  {
   "cell_type": "code",
   "execution_count": 8,
   "metadata": {},
   "outputs": [
    {
     "name": "stdout",
     "output_type": "stream",
     "text": [
      "28.557623"
     ]
    }
   ],
   "source": [
    "PVd1 = 0.40*m.exp(-0.045 * 1 / 12)\n",
    "PVd2 = 0.40*m.exp(-0.045 * 4 / 12)\n",
    "D = PVd1 + PVd2\n",
    "F = (30 - D)*m.exp(-0.045 * 6 / 12)\n",
    "sys.stdout.write('%f'%F)"
   ]
  },
  {
   "cell_type": "markdown",
   "metadata": {},
   "source": [
    "b.) Our gain would be  "
   ]
  },
  {
   "cell_type": "code",
   "execution_count": 9,
   "metadata": {},
   "outputs": [
    {
     "name": "stdout",
     "output_type": "stream",
     "text": [
      "6.442377"
     ]
    }
   ],
   "source": [
    "sys.stdout.write('%f'%(35 - F))"
   ]
  },
  {
   "cell_type": "markdown",
   "metadata": {},
   "source": [
    "c.)  Forward contracts are settled at maturity and our gain depends on $t$ between maturity and time of this information reveals. At the day end gain would be 0 and it will be the same at maturities."
   ]
  },
  {
   "cell_type": "markdown",
   "metadata": {},
   "source": [
    "### Problem 4: Par Forward"
   ]
  },
  {
   "cell_type": "markdown",
   "metadata": {},
   "source": [
    "a.) $V(0) = \\overset{n}{\\underset{i=1}{\\sum}}N_iP(0,t_i)(F(0,t_i)-K)$  <br/>\n",
    " $P(0,t_i)=exp(-r_{EUR}t_i)$ <br/>\n",
    " $F(0,t_i)=S_0exp((r_{EUR}-r_{USD})t_i)$\n",
    "\n"
   ]
  },
  {
   "cell_type": "markdown",
   "metadata": {},
   "source": [
    "$(1e^{-0.02*1}((1/1.2)e^{0.01}-x)+2e^{-0.02*2}((1/1.2)e^{0.01*2}-x)+3e^{-0.02*3}((1/1.2)e^{0.01*3}-x)=0$"
   ]
  },
  {
   "cell_type": "code",
   "execution_count": 10,
   "metadata": {},
   "outputs": [
    {
     "name": "stdout",
     "output_type": "stream",
     "text": [
      "[0.852935067078811]\n",
      "fair exchange rate = 1.172422"
     ]
    }
   ],
   "source": [
    "from sympy.solvers import solve\n",
    "from sympy import Symbol\n",
    "y= Symbol('y')\n",
    "P1 = m.exp(-0.02*1)\n",
    "P2 =m.exp(-0.02*2)\n",
    "P3 = m.exp(-0.02*3)\n",
    "F1 =(1/1.2)*m.exp(0.01)\n",
    "F2 =(1/1.2)*m.exp(0.01*2)\n",
    "F3 =(1/1.2)*m.exp(0.01*3)\n",
    "z=solve(P1*(F1-y)+2*P2*(F2-y)+3*P3*(F3-y),y)\n",
    "print(z)\n",
    "fr = (1/0.852935)\n",
    "sys.stdout.write('fair exchange rate = %f'%fr)"
   ]
  },
  {
   "cell_type": "markdown",
   "metadata": {},
   "source": [
    "b.) Calculate the $PV_i$ for $i = 1,2,3$ of buying 1m EUR at $t=1$, 1m EUR at $t=2$, 1m EUR at $t=3$. And then change it to USD and invest under 1%"
   ]
  },
  {
   "cell_type": "code",
   "execution_count": 11,
   "metadata": {},
   "outputs": [],
   "source": [
    "PV1= m.exp(-0.02) * 10**6\n",
    "PV2 = m.exp(-0.02 * 2) * 2 * 10**6\n",
    "PV3 = m.exp(-0.02 * 3) * 3 * 10**6\n",
    "DV1 = m.exp(0.01) * PV1 / 1.2\n",
    "DV2 = m.exp(0.01 * 2) * PV2 / 1.2\n",
    "DV3 = m.exp(0.01 * 3) * PV3 / 1.2\n",
    "Forward_rate = (PV1 + PV2 + PV3) / (DV1 + DV2 + DV3) "
   ]
  },
  {
   "cell_type": "code",
   "execution_count": 12,
   "metadata": {},
   "outputs": [
    {
     "name": "stdout",
     "output_type": "stream",
     "text": [
      "fair exchange rate = 1.172422"
     ]
    }
   ],
   "source": [
    "sys.stdout.write('fair exchange rate = %f'%Forward_rate)"
   ]
  }
 ],
 "metadata": {
  "kernelspec": {
   "display_name": "Python 3",
   "language": "python",
   "name": "python3"
  },
  "language_info": {
   "codemirror_mode": {
    "name": "ipython",
    "version": 3
   },
   "file_extension": ".py",
   "mimetype": "text/x-python",
   "name": "python",
   "nbconvert_exporter": "python",
   "pygments_lexer": "ipython3",
   "version": "3.6.1"
  }
 },
 "nbformat": 4,
 "nbformat_minor": 2
}
